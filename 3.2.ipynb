{
 "cells": [
  {
   "cell_type": "code",
   "execution_count": 1,
   "metadata": {},
   "outputs": [
    {
     "data": {
      "text/plain": [
       "(3, 5, 4, 'fankfnewk')"
      ]
     },
     "execution_count": 1,
     "metadata": {},
     "output_type": "execute_result"
    }
   ],
   "source": [
    "tup = (3,5,4,'fankfnewk')\n",
    "tup\n"
   ]
  },
  {
   "cell_type": "code",
   "execution_count": 6,
   "metadata": {},
   "outputs": [
    {
     "data": {
      "text/plain": [
       "(3, 5, 'fankfnewk')"
      ]
     },
     "execution_count": 6,
     "metadata": {},
     "output_type": "execute_result"
    }
   ],
   "source": [
    "tuple([3,5,'fankfnewk'])   "
   ]
  },
  {
   "cell_type": "code",
   "execution_count": 7,
   "metadata": {},
   "outputs": [
    {
     "data": {
      "text/plain": [
       "(3, 5, 'fankfnewk')"
      ]
     },
     "execution_count": 7,
     "metadata": {},
     "output_type": "execute_result"
    }
   ],
   "source": [
    "tuple([3,5,'fankfnewk'])   #将任意序列转换为元组"
   ]
  },
  {
   "cell_type": "code",
   "execution_count": 8,
   "metadata": {},
   "outputs": [
    {
     "data": {
      "text/plain": [
       "5"
      ]
     },
     "execution_count": 8,
     "metadata": {},
     "output_type": "execute_result"
    }
   ],
   "source": [
    "tup[1]"
   ]
  },
  {
   "cell_type": "code",
   "execution_count": 11,
   "metadata": {},
   "outputs": [
    {
     "data": {
      "text/plain": [
       "[1, 2, 9]"
      ]
     },
     "execution_count": 11,
     "metadata": {},
     "output_type": "execute_result"
    }
   ],
   "source": [
    "tup = tuple(['foo', [1, 2], 5])\n",
    "tup[1].append(9)\n",
    "tup[1]"
   ]
  },
  {
   "cell_type": "code",
   "execution_count": 12,
   "metadata": {},
   "outputs": [
    {
     "data": {
      "text/plain": [
       "('foo', [1, 2, 9], 5)"
      ]
     },
     "execution_count": 12,
     "metadata": {},
     "output_type": "execute_result"
    }
   ],
   "source": [
    "tup"
   ]
  },
  {
   "cell_type": "code",
   "execution_count": 13,
   "metadata": {},
   "outputs": [
    {
     "data": {
      "text/plain": [
       "'fankfnewk'"
      ]
     },
     "execution_count": 13,
     "metadata": {},
     "output_type": "execute_result"
    }
   ],
   "source": [
    "tup = (4, 5, 6,'fankfnewk')\n",
    "a,b,c,d = tup\n",
    "d"
   ]
  },
  {
   "cell_type": "code",
   "execution_count": 14,
   "metadata": {},
   "outputs": [
    {
     "ename": "IndentationError",
     "evalue": "unexpected indent (<ipython-input-14-5db03a6d40ea>, line 2)",
     "output_type": "error",
     "traceback": [
      "\u001b[1;36m  File \u001b[1;32m\"<ipython-input-14-5db03a6d40ea>\"\u001b[1;36m, line \u001b[1;32m2\u001b[0m\n\u001b[1;33m    a,b,c = values\u001b[0m\n\u001b[1;37m    ^\u001b[0m\n\u001b[1;31mIndentationError\u001b[0m\u001b[1;31m:\u001b[0m unexpected indent\n"
     ]
    }
   ],
   "source": [
    " values = 1, 2, 3, 4, 5\n",
    "    a,b,c = values\n",
    "    c"
   ]
  },
  {
   "cell_type": "code",
   "execution_count": 15,
   "metadata": {},
   "outputs": [
    {
     "ename": "ValueError",
     "evalue": "too many values to unpack (expected 3)",
     "output_type": "error",
     "traceback": [
      "\u001b[1;31m---------------------------------------------------------------------------\u001b[0m",
      "\u001b[1;31mValueError\u001b[0m                                Traceback (most recent call last)",
      "\u001b[1;32m<ipython-input-15-54ab95c50aea>\u001b[0m in \u001b[0;36m<module>\u001b[1;34m\u001b[0m\n\u001b[0;32m      1\u001b[0m \u001b[0mvalues\u001b[0m \u001b[1;33m=\u001b[0m \u001b[1;36m1\u001b[0m\u001b[1;33m,\u001b[0m \u001b[1;36m2\u001b[0m\u001b[1;33m,\u001b[0m \u001b[1;36m3\u001b[0m\u001b[1;33m,\u001b[0m \u001b[1;36m4\u001b[0m\u001b[1;33m,\u001b[0m \u001b[1;36m5\u001b[0m\u001b[1;33m\u001b[0m\u001b[0m\n\u001b[1;32m----> 2\u001b[1;33m \u001b[0ma\u001b[0m\u001b[1;33m,\u001b[0m\u001b[0mb\u001b[0m\u001b[1;33m,\u001b[0m\u001b[0mc\u001b[0m \u001b[1;33m=\u001b[0m \u001b[0mvalues\u001b[0m\u001b[1;33m\u001b[0m\u001b[0m\n\u001b[0m\u001b[0;32m      3\u001b[0m \u001b[0mc\u001b[0m\u001b[1;33m\u001b[0m\u001b[0m\n",
      "\u001b[1;31mValueError\u001b[0m: too many values to unpack (expected 3)"
     ]
    }
   ],
   "source": [
    "values = 1, 2, 3, 4, 5\n",
    "a,b,c = values\n",
    "c    #c前面的*一定要加上"
   ]
  },
  {
   "cell_type": "code",
   "execution_count": 16,
   "metadata": {},
   "outputs": [
    {
     "data": {
      "text/plain": [
       "[3, 4, 5]"
      ]
     },
     "execution_count": 16,
     "metadata": {},
     "output_type": "execute_result"
    }
   ],
   "source": [
    "values = 1, 2, 3, 4, 5\n",
    "a,b,*c = values\n",
    "c"
   ]
  },
  {
   "cell_type": "code",
   "execution_count": 17,
   "metadata": {},
   "outputs": [
    {
     "data": {
      "text/plain": [
       "6"
      ]
     },
     "execution_count": 17,
     "metadata": {},
     "output_type": "execute_result"
    }
   ],
   "source": [
    "values = 1, 2, 3, 4, 5,5,2,3,4,2,7,3,4,3,4,3,4,3\n",
    "values.count(3)"
   ]
  },
  {
   "cell_type": "code",
   "execution_count": 19,
   "metadata": {},
   "outputs": [
    {
     "data": {
      "text/plain": [
       "[0, 1, 2, 3, 4, 5, 6, 7, 8, 9]"
      ]
     },
     "execution_count": 19,
     "metadata": {},
     "output_type": "execute_result"
    }
   ],
   "source": [
    "a = list(range(10))\n",
    "a"
   ]
  },
  {
   "cell_type": "code",
   "execution_count": 21,
   "metadata": {},
   "outputs": [
    {
     "data": {
      "text/plain": [
       "[0, 1, 2, 100, 3, 4, 5, 6, 7, 8, 9]"
      ]
     },
     "execution_count": 21,
     "metadata": {},
     "output_type": "execute_result"
    }
   ],
   "source": [
    "a = [0, 1, 2, 3, 4, 5, 6, 7, 8, 9]\n",
    "a.insert(3,100)\n",
    "a"
   ]
  },
  {
   "cell_type": "code",
   "execution_count": 22,
   "metadata": {},
   "outputs": [
    {
     "data": {
      "text/plain": [
       "[0, 1, 2, 3, 4, 5, 6, 7, 8, 9]"
      ]
     },
     "execution_count": 22,
     "metadata": {},
     "output_type": "execute_result"
    }
   ],
   "source": [
    "a.pop(3)\n",
    "a"
   ]
  },
  {
   "cell_type": "code",
   "execution_count": 23,
   "metadata": {},
   "outputs": [
    {
     "data": {
      "text/plain": [
       "[0, 1, 2, 3, 4, 5, 6, 7, 8]"
      ]
     },
     "execution_count": 23,
     "metadata": {},
     "output_type": "execute_result"
    }
   ],
   "source": [
    "a.pop(-1)\n",
    "a"
   ]
  },
  {
   "cell_type": "code",
   "execution_count": 24,
   "metadata": {},
   "outputs": [
    {
     "data": {
      "text/plain": [
       "[4, None, 'foo', 7, 8, (2, 3)]"
      ]
     },
     "execution_count": 24,
     "metadata": {},
     "output_type": "execute_result"
    }
   ],
   "source": [
    "x = [4, None, 'foo']\n",
    "x.extend([7, 8, (2, 3)])\n",
    "x"
   ]
  },
  {
   "cell_type": "code",
   "execution_count": 25,
   "metadata": {},
   "outputs": [
    {
     "data": {
      "text/plain": [
       "[0, 1, 2, 3, 4, 5, 6, 7, 8]"
      ]
     },
     "execution_count": 25,
     "metadata": {},
     "output_type": "execute_result"
    }
   ],
   "source": [
    "a.sort\n",
    "a"
   ]
  },
  {
   "cell_type": "code",
   "execution_count": 28,
   "metadata": {},
   "outputs": [
    {
     "data": {
      "text/plain": [
       "[0, 1, 2, 3, 4, 5, 6, 7, 8, 9, 100]"
      ]
     },
     "execution_count": 28,
     "metadata": {},
     "output_type": "execute_result"
    }
   ],
   "source": [
    "a = [0, 1, 2, 100, 3, 4, 5, 6, 7, 8, 9]\n",
    "a.sort()\n",
    "a"
   ]
  },
  {
   "cell_type": "code",
   "execution_count": 29,
   "metadata": {},
   "outputs": [
    {
     "data": {
      "text/plain": [
       "[2, 3, 4, 5, 6, 7]"
      ]
     },
     "execution_count": 29,
     "metadata": {},
     "output_type": "execute_result"
    }
   ],
   "source": [
    "a[2:8]"
   ]
  },
  {
   "cell_type": "code",
   "execution_count": 33,
   "metadata": {},
   "outputs": [],
   "source": [
    "some_list = ['foo', 'bar', 'baz']\n",
    "mapping = {}\n",
    "for i, v in enumerate(some_list):\n",
    "    mapping[v] = i"
   ]
  },
  {
   "cell_type": "code",
   "execution_count": 34,
   "metadata": {},
   "outputs": [
    {
     "data": {
      "text/plain": [
       "{'foo': 0, 'bar': 1, 'baz': 2}"
      ]
     },
     "execution_count": 34,
     "metadata": {},
     "output_type": "execute_result"
    }
   ],
   "source": [
    "mapping"
   ]
  },
  {
   "cell_type": "code",
   "execution_count": 35,
   "metadata": {},
   "outputs": [],
   "source": [
    "some_list = ['foo', 'bar', 'baz']\n",
    "mapping = {}\n",
    "for i, v in enumerate(some_list):\n",
    "    i += 1"
   ]
  },
  {
   "cell_type": "code",
   "execution_count": 38,
   "metadata": {},
   "outputs": [],
   "source": [
    "some_list = [8,100,200]\n",
    "mapping = {}\n",
    "for i, v in enumerate(some_list):\n",
    "    mapping[v] = i"
   ]
  },
  {
   "cell_type": "code",
   "execution_count": 39,
   "metadata": {},
   "outputs": [
    {
     "data": {
      "text/plain": [
       "{8: 0, 100: 1, 200: 2}"
      ]
     },
     "execution_count": 39,
     "metadata": {},
     "output_type": "execute_result"
    }
   ],
   "source": [
    "mapping"
   ]
  },
  {
   "cell_type": "code",
   "execution_count": 40,
   "metadata": {},
   "outputs": [
    {
     "data": {
      "text/plain": [
       "[0, 1, 2, 2, 3, 6, 7]"
      ]
     },
     "execution_count": 40,
     "metadata": {},
     "output_type": "execute_result"
    }
   ],
   "source": [
    "sorted([7, 1, 2, 6, 0, 3, 2])\n"
   ]
  },
  {
   "cell_type": "code",
   "execution_count": 41,
   "metadata": {},
   "outputs": [
    {
     "data": {
      "text/plain": [
       "[' ', 'a', 'c', 'e', 'e', 'h', 'o', 'r', 'r', 's']"
      ]
     },
     "execution_count": 41,
     "metadata": {},
     "output_type": "execute_result"
    }
   ],
   "source": [
    "sorted('horse race')"
   ]
  },
  {
   "cell_type": "code",
   "execution_count": 42,
   "metadata": {},
   "outputs": [
    {
     "data": {
      "text/plain": [
       "[('foo', 'one'), ('bar', 'two'), ('baz', 'three')]"
      ]
     },
     "execution_count": 42,
     "metadata": {},
     "output_type": "execute_result"
    }
   ],
   "source": [
    "seq1 = ['foo', 'bar', 'baz']\n",
    "seq2 = ['one', 'two', 'three']\n",
    "zipped = zip(seq1, seq2)\n",
    "list(zipped)"
   ]
  },
  {
   "cell_type": "code",
   "execution_count": 43,
   "metadata": {},
   "outputs": [
    {
     "data": {
      "text/plain": [
       "{'a': 'some value', 'b': [1, 2, 3, 4], 'd': 12344566676}"
      ]
     },
     "execution_count": 43,
     "metadata": {},
     "output_type": "execute_result"
    }
   ],
   "source": [
    "d1 = {'a' : 'some value', 'b' : [1, 2, 3, 4], 'd' :12344566676}\n",
    "d1"
   ]
  },
  {
   "cell_type": "code",
   "execution_count": 45,
   "metadata": {},
   "outputs": [
    {
     "data": {
      "text/plain": [
       "12344566676"
      ]
     },
     "execution_count": 45,
     "metadata": {},
     "output_type": "execute_result"
    }
   ],
   "source": [
    "d1['d']"
   ]
  },
  {
   "cell_type": "code",
   "execution_count": 46,
   "metadata": {},
   "outputs": [
    {
     "data": {
      "text/plain": [
       "{'a': 'some value', 'b': [1, 2, 3, 4], 'd': 12344566676, 5: 'some value'}"
      ]
     },
     "execution_count": 46,
     "metadata": {},
     "output_type": "execute_result"
    }
   ],
   "source": [
    "d1[5] = 'some value'\n",
    "d1"
   ]
  },
  {
   "cell_type": "code",
   "execution_count": 47,
   "metadata": {},
   "outputs": [
    {
     "data": {
      "text/plain": [
       "{'b': [1, 2, 3, 4], 'd': 12344566676, 5: 'some value'}"
      ]
     },
     "execution_count": 47,
     "metadata": {},
     "output_type": "execute_result"
    }
   ],
   "source": [
    "del d1['a']\n",
    "d1"
   ]
  },
  {
   "cell_type": "code",
   "execution_count": 49,
   "metadata": {},
   "outputs": [
    {
     "data": {
      "text/plain": [
       "[1, 2, 3, 4]"
      ]
     },
     "execution_count": 49,
     "metadata": {},
     "output_type": "execute_result"
    }
   ],
   "source": [
    "d1.pop('b')"
   ]
  },
  {
   "cell_type": "code",
   "execution_count": 50,
   "metadata": {},
   "outputs": [
    {
     "data": {
      "text/plain": [
       "{'d': 12344566676, 5: 'some value'}"
      ]
     },
     "execution_count": 50,
     "metadata": {},
     "output_type": "execute_result"
    }
   ],
   "source": [
    "d1"
   ]
  },
  {
   "cell_type": "code",
   "execution_count": 55,
   "metadata": {},
   "outputs": [],
   "source": [
    "d1.update({'d':135559999000, 4:'asfwrgreg'})"
   ]
  },
  {
   "cell_type": "code",
   "execution_count": 56,
   "metadata": {},
   "outputs": [
    {
     "data": {
      "text/plain": [
       "{'d': 135559999000, 5: 'some value', 4: 'asfwrgreg'}"
      ]
     },
     "execution_count": 56,
     "metadata": {},
     "output_type": "execute_result"
    }
   ],
   "source": [
    "d1"
   ]
  },
  {
   "cell_type": "code",
   "execution_count": 57,
   "metadata": {},
   "outputs": [
    {
     "data": {
      "text/plain": [
       "973265454"
      ]
     },
     "execution_count": 57,
     "metadata": {},
     "output_type": "execute_result"
    }
   ],
   "source": [
    " hash('string')"
   ]
  },
  {
   "cell_type": "code",
   "execution_count": 58,
   "metadata": {},
   "outputs": [
    {
     "data": {
      "text/plain": [
       "{1, 2, 3, 4, 5, 6, 7, 8}"
      ]
     },
     "execution_count": 58,
     "metadata": {},
     "output_type": "execute_result"
    }
   ],
   "source": [
    "a = {1, 2, 3, 4, 5}\n",
    "b = {3, 4, 5, 6, 7, 8}\n",
    "a.union(b)"
   ]
  },
  {
   "cell_type": "code",
   "execution_count": 59,
   "metadata": {},
   "outputs": [
    {
     "data": {
      "text/plain": [
       "{1, 2, 3, 4, 5, 6, 7, 8}"
      ]
     },
     "execution_count": 59,
     "metadata": {},
     "output_type": "execute_result"
    }
   ],
   "source": [
    "a|b"
   ]
  },
  {
   "cell_type": "code",
   "execution_count": 60,
   "metadata": {},
   "outputs": [
    {
     "data": {
      "text/plain": [
       "{3, 4, 5}"
      ]
     },
     "execution_count": 60,
     "metadata": {},
     "output_type": "execute_result"
    }
   ],
   "source": [
    "a.intersection(b)"
   ]
  },
  {
   "cell_type": "code",
   "execution_count": 61,
   "metadata": {},
   "outputs": [
    {
     "data": {
      "text/plain": [
       "True"
      ]
     },
     "execution_count": 61,
     "metadata": {},
     "output_type": "execute_result"
    }
   ],
   "source": [
    "a = {1, 2, 3, 4, 5}\n",
    "{1,2}.issubset(a)"
   ]
  },
  {
   "cell_type": "code",
   "execution_count": 62,
   "metadata": {},
   "outputs": [
    {
     "data": {
      "text/plain": [
       "True"
      ]
     },
     "execution_count": 62,
     "metadata": {},
     "output_type": "execute_result"
    }
   ],
   "source": [
    "a.issuperset({3})"
   ]
  },
  {
   "cell_type": "code",
   "execution_count": 63,
   "metadata": {},
   "outputs": [
    {
     "data": {
      "text/plain": [
       "6"
      ]
     },
     "execution_count": 63,
     "metadata": {},
     "output_type": "execute_result"
    }
   ],
   "source": [
    "def my_function(x, y, z=1.5):\n",
    "    if z > 1:\n",
    "        return z * (x + y)\n",
    "    else: \n",
    "        return z / (x + y)\n",
    "my_function(1,1,3)"
   ]
  },
  {
   "cell_type": "code",
   "execution_count": 64,
   "metadata": {},
   "outputs": [
    {
     "data": {
      "text/plain": [
       "3.0"
      ]
     },
     "execution_count": 64,
     "metadata": {},
     "output_type": "execute_result"
    }
   ],
   "source": [
    "def my_function(x, y, z=1.5):\n",
    "    if z > 1:\n",
    "        return z * (x + y)\n",
    "    else: \n",
    "        return z / (x + y)\n",
    "my_function(1,1)"
   ]
  },
  {
   "cell_type": "code",
   "execution_count": 68,
   "metadata": {},
   "outputs": [],
   "source": [
    "states = [' Alabama ', 'Georgia!', 'Georgia', 'georgia',\n",
    "'FlOrIda', 'south carolina##', 'West virginia?']\n",
    "import re\n",
    "def clean_strings(strings):\n",
    " result = []\n",
    " for value in strings:\n",
    "        value = value.strip()\n",
    "        value = re.sub('[!#?]', '', value)\n",
    "        value = value.title()\n",
    "        result.append(value)\n",
    "        return result"
   ]
  },
  {
   "cell_type": "code",
   "execution_count": 69,
   "metadata": {},
   "outputs": [
    {
     "data": {
      "text/plain": [
       "['Alabama']"
      ]
     },
     "execution_count": 69,
     "metadata": {},
     "output_type": "execute_result"
    }
   ],
   "source": [
    "clean_strings(states)"
   ]
  },
  {
   "cell_type": "code",
   "execution_count": 70,
   "metadata": {},
   "outputs": [
    {
     "data": {
      "text/plain": [
       "['aaaa', 'foo', 'abab', 'bar', 'card']"
      ]
     },
     "execution_count": 70,
     "metadata": {},
     "output_type": "execute_result"
    }
   ],
   "source": [
    "strings = ['foo', 'card', 'bar', 'aaaa', 'abab']\n",
    "strings.sort(key=lambda x: len(set(list(x))))\n",
    "strings\n"
   ]
  },
  {
   "cell_type": "code",
   "execution_count": 71,
   "metadata": {},
   "outputs": [
    {
     "data": {
      "text/plain": [
       "<generator object <genexpr> at 0x00BAE930>"
      ]
     },
     "execution_count": 71,
     "metadata": {},
     "output_type": "execute_result"
    }
   ],
   "source": [
    "gen = (x ** 2 for x in range(100))\n",
    "gen"
   ]
  },
  {
   "cell_type": "code",
   "execution_count": 72,
   "metadata": {},
   "outputs": [],
   "source": [
    "def attempt_float(x):\n",
    "    try:\n",
    "        return float(x)\n",
    "    except:\n",
    "        return x\n"
   ]
  },
  {
   "cell_type": "code",
   "execution_count": 73,
   "metadata": {},
   "outputs": [
    {
     "data": {
      "text/plain": [
       "1.2345"
      ]
     },
     "execution_count": 73,
     "metadata": {},
     "output_type": "execute_result"
    }
   ],
   "source": [
    " attempt_float('1.2345')"
   ]
  },
  {
   "cell_type": "code",
   "execution_count": 74,
   "metadata": {},
   "outputs": [
    {
     "data": {
      "text/plain": [
       "1.2345"
      ]
     },
     "execution_count": 74,
     "metadata": {},
     "output_type": "execute_result"
    }
   ],
   "source": [
    " attempt_float(1.2345)"
   ]
  },
  {
   "cell_type": "code",
   "execution_count": 75,
   "metadata": {},
   "outputs": [
    {
     "data": {
      "text/plain": [
       "100.0"
      ]
     },
     "execution_count": 75,
     "metadata": {},
     "output_type": "execute_result"
    }
   ],
   "source": [
    " attempt_float(100)"
   ]
  },
  {
   "cell_type": "code",
   "execution_count": 77,
   "metadata": {},
   "outputs": [
    {
     "data": {
      "text/plain": [
       "array([[-1.14582626, -0.76743585, -1.7717167 ],\n",
       "       [-0.20041131, -0.82611944,  0.57160647]])"
      ]
     },
     "execution_count": 77,
     "metadata": {},
     "output_type": "execute_result"
    }
   ],
   "source": [
    "import numpy as np\n",
    "data = np.random.randn(2, 3)\n",
    "data"
   ]
  },
  {
   "cell_type": "code",
   "execution_count": 78,
   "metadata": {},
   "outputs": [
    {
     "data": {
      "text/plain": [
       "array([6. , 7.5, 8. , 0. , 1. ])"
      ]
     },
     "execution_count": 78,
     "metadata": {},
     "output_type": "execute_result"
    }
   ],
   "source": [
    "data1 = [6, 7.5, 8, 0, 1]\n",
    "arr1 = np.array(data1)\n",
    "arr1\n"
   ]
  },
  {
   "cell_type": "code",
   "execution_count": 79,
   "metadata": {},
   "outputs": [
    {
     "data": {
      "text/plain": [
       "array([[1, 2, 3, 4],\n",
       "       [5, 6, 7, 8]])"
      ]
     },
     "execution_count": 79,
     "metadata": {},
     "output_type": "execute_result"
    }
   ],
   "source": [
    "data2 = [[1, 2, 3, 4], [5, 6, 7, 8]]\n",
    "arr2 = np.array(data2)\n",
    "arr2"
   ]
  },
  {
   "cell_type": "code",
   "execution_count": 80,
   "metadata": {},
   "outputs": [
    {
     "data": {
      "text/plain": [
       "(2, 4)"
      ]
     },
     "execution_count": 80,
     "metadata": {},
     "output_type": "execute_result"
    }
   ],
   "source": [
    "arr2.shape"
   ]
  },
  {
   "cell_type": "code",
   "execution_count": 81,
   "metadata": {},
   "outputs": [
    {
     "data": {
      "text/plain": [
       "(5,)"
      ]
     },
     "execution_count": 81,
     "metadata": {},
     "output_type": "execute_result"
    }
   ],
   "source": [
    "arr1.shape"
   ]
  },
  {
   "cell_type": "code",
   "execution_count": 82,
   "metadata": {},
   "outputs": [
    {
     "data": {
      "text/plain": [
       "array([[0., 0., 0.],\n",
       "       [0., 0., 0.],\n",
       "       [0., 0., 0.]])"
      ]
     },
     "execution_count": 82,
     "metadata": {},
     "output_type": "execute_result"
    }
   ],
   "source": [
    "np.zeros((3, 3))"
   ]
  },
  {
   "cell_type": "code",
   "execution_count": 83,
   "metadata": {},
   "outputs": [
    {
     "data": {
      "text/plain": [
       "array([ 3.7, -1.2, -2.6,  0.5, 12.9, 10.1])"
      ]
     },
     "execution_count": 83,
     "metadata": {},
     "output_type": "execute_result"
    }
   ],
   "source": [
    "arr = np.array([3.7, -1.2, -2.6, 0.5, 12.9, 10.1])\n",
    "arr"
   ]
  },
  {
   "cell_type": "code",
   "execution_count": 84,
   "metadata": {},
   "outputs": [
    {
     "data": {
      "text/plain": [
       "array([b'1.25', b'-9.6', b'42'], dtype='|S4')"
      ]
     },
     "execution_count": 84,
     "metadata": {},
     "output_type": "execute_result"
    }
   ],
   "source": [
    "numeric_strings = np.array(['1.25', '-9.6', '42'],dtype=np.string_)\n",
    "numeric_strings"
   ]
  },
  {
   "cell_type": "code",
   "execution_count": 85,
   "metadata": {},
   "outputs": [
    {
     "data": {
      "text/plain": [
       "array([         0, 1075314688,          0, 1075707904,          0,\n",
       "       1075838976,          0, 1072693248], dtype=uint32)"
      ]
     },
     "execution_count": 85,
     "metadata": {},
     "output_type": "execute_result"
    }
   ],
   "source": [
    "empty_uint32 = np.empty(8, dtype='u4')\n",
    "empty_uint32"
   ]
  },
  {
   "cell_type": "code",
   "execution_count": 86,
   "metadata": {},
   "outputs": [
    {
     "data": {
      "text/plain": [
       "array([ 0.27027027, -0.83333333, -0.38461538,  2.        ,  0.07751938,\n",
       "        0.0990099 ])"
      ]
     },
     "execution_count": 86,
     "metadata": {},
     "output_type": "execute_result"
    }
   ],
   "source": [
    "1 / arr\n"
   ]
  },
  {
   "cell_type": "code",
   "execution_count": 88,
   "metadata": {},
   "outputs": [
    {
     "data": {
      "text/plain": [
       "array([10.1])"
      ]
     },
     "execution_count": 88,
     "metadata": {},
     "output_type": "execute_result"
    }
   ],
   "source": [
    "arr_slice = arr[5:8]\n",
    "arr_slice"
   ]
  },
  {
   "cell_type": "code",
   "execution_count": 89,
   "metadata": {},
   "outputs": [
    {
     "data": {
      "text/plain": [
       "array([7, 8, 9])"
      ]
     },
     "execution_count": 89,
     "metadata": {},
     "output_type": "execute_result"
    }
   ],
   "source": [
    "arr2d = np.array([[1, 2, 3], [4, 5, 6], [7, 8, 9]])\n",
    "arr2d[2]"
   ]
  },
  {
   "cell_type": "code",
   "execution_count": 90,
   "metadata": {},
   "outputs": [
    {
     "data": {
      "text/plain": [
       "array([[[ 1,  2,  3],\n",
       "        [ 4,  5,  6]],\n",
       "\n",
       "       [[ 7,  8,  9],\n",
       "        [10, 11, 12]]])"
      ]
     },
     "execution_count": 90,
     "metadata": {},
     "output_type": "execute_result"
    }
   ],
   "source": [
    "arr3d = np.array([[[1, 2, 3], [4, 5, 6]], [[7, 8, 9], [10,\n",
    "11, 12]]])\n",
    "arr3d"
   ]
  },
  {
   "cell_type": "code",
   "execution_count": 91,
   "metadata": {},
   "outputs": [
    {
     "data": {
      "text/plain": [
       "array(['Bob', 'Joe', 'Will', 'Bob', 'Will', 'Joe', 'Joe'], dtype='<U4')"
      ]
     },
     "execution_count": 91,
     "metadata": {},
     "output_type": "execute_result"
    }
   ],
   "source": [
    "names = np.array(['Bob', 'Joe', 'Will', 'Bob', 'Will',\n",
    "'Joe', 'Joe'])\n",
    "data = np.random.randn(7, 4)\n",
    "names"
   ]
  },
  {
   "cell_type": "code",
   "execution_count": 92,
   "metadata": {},
   "outputs": [
    {
     "data": {
      "text/plain": [
       "array([[0.        , 0.        , 0.        , 0.32044002],\n",
       "       [0.        , 0.        , 0.        , 0.        ],\n",
       "       [0.        , 1.44635441, 0.        , 0.        ],\n",
       "       [0.32296414, 0.        , 0.65271243, 0.        ],\n",
       "       [0.        , 0.3948022 , 1.11129655, 0.        ],\n",
       "       [0.        , 0.30661046, 0.07184671, 1.03932855],\n",
       "       [0.        , 0.        , 0.        , 0.0962122 ]])"
      ]
     },
     "execution_count": 92,
     "metadata": {},
     "output_type": "execute_result"
    }
   ],
   "source": [
    "data[data < 0] = 0\n",
    "data"
   ]
  },
  {
   "cell_type": "code",
   "execution_count": 93,
   "metadata": {},
   "outputs": [
    {
     "data": {
      "text/plain": [
       "array([[ 0,  1,  2,  3,  4],\n",
       "       [ 5,  6,  7,  8,  9],\n",
       "       [10, 11, 12, 13, 14]])"
      ]
     },
     "execution_count": 93,
     "metadata": {},
     "output_type": "execute_result"
    }
   ],
   "source": [
    "arr = np.arange(15).reshape((3, 5))\n",
    "arr\n"
   ]
  },
  {
   "cell_type": "code",
   "execution_count": 94,
   "metadata": {},
   "outputs": [
    {
     "data": {
      "text/plain": [
       "array([0, 1, 2, 3, 4, 5, 6, 7, 8, 9])"
      ]
     },
     "execution_count": 94,
     "metadata": {},
     "output_type": "execute_result"
    }
   ],
   "source": [
    "arr = np.arange(10)\n",
    "arr"
   ]
  },
  {
   "cell_type": "code",
   "execution_count": 95,
   "metadata": {},
   "outputs": [
    {
     "data": {
      "text/plain": [
       "array([0.        , 1.        , 1.41421356, 1.73205081, 2.        ,\n",
       "       2.23606798, 2.44948974, 2.64575131, 2.82842712, 3.        ])"
      ]
     },
     "execution_count": 95,
     "metadata": {},
     "output_type": "execute_result"
    }
   ],
   "source": [
    "np.sqrt(arr)\n"
   ]
  },
  {
   "cell_type": "code",
   "execution_count": 102,
   "metadata": {
    "scrolled": true
   },
   "outputs": [
    {
     "data": {
      "text/plain": [
       "<matplotlib.colorbar.Colorbar at 0xc443650>"
      ]
     },
     "execution_count": 102,
     "metadata": {},
     "output_type": "execute_result"
    },
    {
     "data": {
      "image/png": "[encoded data removed]",
      "text/plain": [
       "<Figure size 432x288 with 2 Axes>"
      ]
     },
     "metadata": {
      "needs_background": "light"
     },
     "output_type": "display_data"
    }
   ],
   "source": [
    "points = np.arange(-5, 5, 0.01)\n",
    "xs, ys = np.meshgrid(points, points)\n",
    "import matplotlib.pyplot as plt\n",
    "z = np.sqrt(xs ** 4 + ys ** 4)\n",
    "plt.imshow(z, cmap=plt.cm.gray); plt.colorbar()"
   ]
  },
  {
   "cell_type": "code",
   "execution_count": 103,
   "metadata": {},
   "outputs": [
    {
     "data": {
      "text/plain": [
       "array([[ 0.45390204,  2.63805857, -0.40731221,  0.10151154],\n",
       "       [ 0.4303786 ,  0.64575996, -0.27896743,  0.00620785],\n",
       "       [-0.19964086, -0.84451005,  0.7208357 ,  0.76077377],\n",
       "       [-0.85427698, -0.22097946, -3.10707835, -1.71214006]])"
      ]
     },
     "execution_count": 103,
     "metadata": {},
     "output_type": "execute_result"
    }
   ],
   "source": [
    "arr = np.random.randn(4, 4)\n",
    "arr\n"
   ]
  },
  {
   "cell_type": "code",
   "execution_count": 104,
   "metadata": {},
   "outputs": [
    {
     "data": {
      "text/plain": [
       "array([[ 2,  2, -2,  2],\n",
       "       [ 2,  2, -2,  2],\n",
       "       [-2, -2,  2,  2],\n",
       "       [-2, -2, -2, -2]])"
      ]
     },
     "execution_count": 104,
     "metadata": {},
     "output_type": "execute_result"
    }
   ],
   "source": [
    "np.where(arr > 0, 2, -2)"
   ]
  },
  {
   "cell_type": "code",
   "execution_count": 105,
   "metadata": {},
   "outputs": [
    {
     "data": {
      "text/plain": [
       "-0.11671733544216051"
      ]
     },
     "execution_count": 105,
     "metadata": {},
     "output_type": "execute_result"
    }
   ],
   "source": [
    " np.mean(arr)"
   ]
  },
  {
   "cell_type": "code",
   "execution_count": 106,
   "metadata": {},
   "outputs": [
    {
     "data": {
      "text/plain": [
       "array([-0.1696372 ,  2.21832902, -3.0725223 , -0.84364689])"
      ]
     },
     "execution_count": 106,
     "metadata": {},
     "output_type": "execute_result"
    }
   ],
   "source": [
    "arr.sum(axis=0)"
   ]
  },
  {
   "cell_type": "code",
   "execution_count": 107,
   "metadata": {},
   "outputs": [
    {
     "data": {
      "text/plain": [
       "array([ 0.45390204,  3.09196061,  2.6846484 ,  2.78615995,  3.21653855,\n",
       "        3.86229851,  3.58333108,  3.58953893,  3.38989806,  2.54538801,\n",
       "        3.26622371,  4.02699748,  3.1727205 ,  2.95174104, -0.15533731,\n",
       "       -1.86747737])"
      ]
     },
     "execution_count": 107,
     "metadata": {},
     "output_type": "execute_result"
    }
   ],
   "source": [
    "arr.cumsum()"
   ]
  },
  {
   "cell_type": "code",
   "execution_count": 108,
   "metadata": {},
   "outputs": [
    {
     "data": {
      "text/plain": [
       "43"
      ]
     },
     "execution_count": 108,
     "metadata": {},
     "output_type": "execute_result"
    }
   ],
   "source": [
    "arr = np.random.randn(80)\n",
    "(arr > 0).sum() # Number of positive values\n"
   ]
  },
  {
   "cell_type": "code",
   "execution_count": 109,
   "metadata": {},
   "outputs": [
    {
     "data": {
      "text/plain": [
       "array([-2.88135671, -2.68454689, -2.65355023, -2.58970956, -1.45077073,\n",
       "       -1.37263369, -1.2654593 , -1.21747634, -1.16991551, -1.1650414 ,\n",
       "       -1.11970137, -1.09677305, -1.0663517 , -1.00996738, -0.96819168,\n",
       "       -0.89151405, -0.87727011, -0.84921665, -0.81821208, -0.81551877,\n",
       "       -0.7883603 , -0.78139569, -0.68079628, -0.33088273, -0.32289338,\n",
       "       -0.28514669, -0.2701467 , -0.23520154, -0.18902079, -0.14009461,\n",
       "       -0.13745373, -0.12489688, -0.11988203, -0.09131135, -0.08037418,\n",
       "       -0.03766166, -0.03152424,  0.02971869,  0.03344952,  0.06713305,\n",
       "        0.09172162,  0.09883348,  0.11918443,  0.12522427,  0.13285055,\n",
       "        0.13676219,  0.18100742,  0.24907104,  0.37488698,  0.44514642,\n",
       "        0.44642091,  0.45777675,  0.47643712,  0.48042987,  0.49659503,\n",
       "        0.55913902,  0.57022834,  0.59652198,  0.63231377,  0.71569595,\n",
       "        0.72232915,  0.7591618 ,  0.81589553,  0.82725654,  0.8313003 ,\n",
       "        0.84631285,  0.85165126,  0.8652802 ,  0.86531995,  0.89609064,\n",
       "        1.02286156,  1.06820726,  1.15318576,  1.19129272,  1.24905814,\n",
       "        1.2957334 ,  1.6003874 ,  1.80376493,  1.9909392 ,  3.74725222])"
      ]
     },
     "execution_count": 109,
     "metadata": {},
     "output_type": "execute_result"
    }
   ],
   "source": [
    "arr.sort()\n",
    "arr"
   ]
  },
  {
   "cell_type": "code",
   "execution_count": 110,
   "metadata": {},
   "outputs": [
    {
     "data": {
      "text/plain": [
       "array(['Bob', 'Joe', 'Will'], dtype='<U4')"
      ]
     },
     "execution_count": 110,
     "metadata": {},
     "output_type": "execute_result"
    }
   ],
   "source": [
    "names = np.array(['Bob', 'Joe', 'Will', 'Bob', 'Will','Joe', 'Joe'])\n",
    "np.unique(names)"
   ]
  },
  {
   "cell_type": "code",
   "execution_count": 111,
   "metadata": {},
   "outputs": [
    {
     "data": {
      "text/plain": [
       "array([[1., 2., 3.],\n",
       "       [4., 5., 6.]])"
      ]
     },
     "execution_count": 111,
     "metadata": {},
     "output_type": "execute_result"
    }
   ],
   "source": [
    "x = np.array([[1., 2., 3.], [4., 5., 6.]])\n",
    "x"
   ]
  },
  {
   "cell_type": "code",
   "execution_count": 112,
   "metadata": {},
   "outputs": [
    {
     "data": {
      "text/plain": [
       "array([[ 22.,  50.],\n",
       "       [ 55., 131.]])"
      ]
     },
     "execution_count": 112,
     "metadata": {},
     "output_type": "execute_result"
    }
   ],
   "source": [
    "y = np.array([[6., 13.], [-1, 5], [6, 9]])\n",
    "x.dot(y)"
   ]
  },
  {
   "cell_type": "code",
   "execution_count": 113,
   "metadata": {},
   "outputs": [],
   "source": [
    "samples = np.random.normal(size=(14, 42))"
   ]
  },
  {
   "cell_type": "code",
   "execution_count": 114,
   "metadata": {},
   "outputs": [
    {
     "data": {
      "text/plain": [
       "array([[ 0.67966421, -0.98098814, -0.59804953, -1.50038038, -0.2675338 ,\n",
       "        -0.22843777,  0.52675462, -0.43076643,  0.25655823,  0.90285449,\n",
       "         0.51745185,  0.8769098 , -0.09014802,  0.3527329 ,  1.39869691,\n",
       "         1.4315205 , -0.0289563 , -0.24901885,  1.5512249 ,  0.55734027,\n",
       "        -0.90606199, -0.56959712,  0.48023401,  0.43982474,  0.55182428,\n",
       "         0.78460323,  1.84938118, -0.49229641, -0.95935342, -0.49032817,\n",
       "        -0.83863946, -0.57757376,  0.64115368,  0.27034134,  1.1603596 ,\n",
       "        -0.73551134,  1.61142189, -0.57813026,  0.52829465,  0.55476642,\n",
       "        -0.36662104,  0.47088832],\n",
       "       [ 0.85856881, -0.35508634,  0.22762119,  0.45280419,  0.89508773,\n",
       "        -0.17531605, -0.52774396,  1.18782381,  1.43905495,  0.81839895,\n",
       "        -0.65942602,  0.35283233,  0.84383143, -1.67536191, -0.78960963,\n",
       "        -0.13090956,  0.55164252,  0.14983062, -1.10377812,  0.17088445,\n",
       "         0.10741524, -2.12540876, -0.79938503,  0.12646653, -1.05316367,\n",
       "         0.05321396, -0.55804382, -1.82637954, -0.59609949,  2.0306748 ,\n",
       "        -0.33065673, -0.48896793,  0.30601679,  1.75528523, -0.9504441 ,\n",
       "         1.49757457, -0.95612753, -0.15548216, -0.29539814,  1.55248857,\n",
       "        -1.66579158, -0.33678177],\n",
       "       [ 0.20973623, -0.30457932, -0.95098044,  0.87071739, -0.39499068,\n",
       "        -2.61652971,  0.45113823,  1.66901052, -1.99629807,  0.6534574 ,\n",
       "         0.68801722,  0.14131916, -0.34830626,  0.45871909, -0.38179219,\n",
       "         1.58006122, -0.26691547,  1.83026307,  0.07886484, -1.46804303,\n",
       "         0.28347314, -2.0056239 , -1.02603794, -0.2486479 ,  0.12743508,\n",
       "        -0.22682148, -0.887924  , -0.85491643, -0.51504608,  0.31245929,\n",
       "         0.16830509, -1.35775762,  0.20651056, -1.57319348, -0.3518837 ,\n",
       "         0.37093286, -0.30426909,  0.50071342, -2.99734468,  0.10516733,\n",
       "        -0.50073135,  0.65431315],\n",
       "       [ 0.79480082, -0.95412087,  0.80281434, -2.26605135, -1.35764115,\n",
       "        -0.00765088,  1.2200346 ,  1.13573761, -0.67597267, -1.69467334,\n",
       "        -1.33541334, -0.8915026 , -0.03332726,  0.62234367, -1.19749036,\n",
       "        -0.5274813 ,  0.52231437, -0.04466631,  0.41487327,  0.03396725,\n",
       "         1.96188926, -0.1679825 , -0.48453666, -1.25018442,  0.7342972 ,\n",
       "        -0.56774492, -0.88890135, -1.31418837, -0.232871  ,  0.75244494,\n",
       "         0.94510149,  0.4944009 , -1.10271889,  0.41551483, -1.4305531 ,\n",
       "         0.55516353, -1.81384085,  0.28011612,  0.5721026 ,  0.45424803,\n",
       "         0.82622143, -0.00763979],\n",
       "       [ 0.55950895, -0.03816987, -0.20598764,  1.03853528, -0.97945872,\n",
       "        -0.05006755,  0.18090862,  0.80505978,  0.24780186, -0.65290492,\n",
       "         0.00454087,  0.51748714,  0.7876683 , -0.28677052,  0.95654135,\n",
       "         0.7788943 , -0.91507609,  1.26378247,  0.50010077,  0.25925051,\n",
       "        -0.34508182,  0.90546306, -0.65089017,  0.26083655, -2.67740296,\n",
       "         0.64310969, -1.18464097, -0.91703499,  0.13386552, -0.79323274,\n",
       "         0.60736824,  1.49245863, -1.05672916, -0.94820054,  1.86019704,\n",
       "        -1.07617306, -1.03447428,  0.53203275,  0.30129327, -0.66377241,\n",
       "         0.14535738,  0.24275485],\n",
       "       [-0.01132177,  1.86967618, -0.74504631, -1.20257295,  2.02973019,\n",
       "        -0.49386622,  0.93432713, -0.30188693, -0.64490151,  0.02526784,\n",
       "        -1.18591867,  1.53308373, -1.2140042 ,  0.21051788,  0.7079164 ,\n",
       "        -1.58119491,  0.8033727 , -1.14944116, -1.7724929 , -0.2292541 ,\n",
       "         0.45539959, -0.89107698, -1.19178999, -1.9267547 , -0.20461518,\n",
       "         2.52823256, -2.1525923 ,  0.69285688, -0.10356262, -0.49061676,\n",
       "        -0.06412658, -1.44181092,  0.4558749 ,  1.63580031, -1.15295869,\n",
       "         0.98661798, -0.61283995,  0.49427684, -0.84657439, -0.60302089,\n",
       "         0.81938182, -0.98631688],\n",
       "       [ 0.15085003, -0.70964543, -0.51258639, -1.00781857,  0.58672195,\n",
       "         0.65484833, -0.13902599,  1.85277959,  0.38773259,  0.25811617,\n",
       "        -0.37054254, -0.7112821 , -0.75155447,  0.05392376, -0.7120187 ,\n",
       "        -0.46520688,  0.24793582, -0.28064097, -0.43477795, -0.65655929,\n",
       "         0.24996879,  0.16235193, -0.9507452 ,  0.26784993, -1.40453365,\n",
       "        -1.56339518,  0.53996883,  1.93992467,  0.94021583,  0.40843653,\n",
       "         2.01959019, -2.20135756,  1.4068216 , -1.5039382 ,  2.23216243,\n",
       "        -0.20312102, -0.16026318,  0.60168328,  0.14775286, -0.79376361,\n",
       "        -0.16583879, -1.66845499],\n",
       "       [-0.41677484, -0.08279996, -2.5337002 , -0.49480556,  0.93878839,\n",
       "         1.46233286, -0.30127266,  0.34499949,  0.83434113,  1.39931289,\n",
       "         1.25466687,  1.20927986,  0.05522305, -0.13386835, -0.45298571,\n",
       "         0.78985613,  2.33385235,  0.14437633, -1.09976652,  1.48091446,\n",
       "         0.2208494 ,  0.43794381,  0.6570906 , -0.08254494,  2.52235851,\n",
       "        -1.60344524,  0.2629608 , -1.53622516,  1.11644001,  1.20067581,\n",
       "         1.27239162, -0.72852348, -0.14948149, -0.5901166 ,  0.41997756,\n",
       "         0.6137826 ,  0.77147298, -0.2521543 , -1.35160945,  0.02240432,\n",
       "        -0.15077806, -0.65172067],\n",
       "       [ 0.30958724, -0.68070252, -0.28657551, -0.88743187,  1.38992737,\n",
       "        -0.70952393,  0.45829221, -2.09523638,  0.19192645, -0.6505451 ,\n",
       "         1.094345  , -0.44054743, -0.6525974 ,  0.75070271, -1.96541643,\n",
       "         0.68699437,  0.57144853, -1.61489276, -1.77164814, -0.91966633,\n",
       "        -0.13368331,  0.34773398, -0.63116085,  0.62271854,  1.24204216,\n",
       "         0.4255762 , -0.16454492,  1.93456799, -0.38840747,  1.08099055,\n",
       "         0.35554662, -0.22737313, -0.07534723,  0.5909626 , -1.53573786,\n",
       "        -0.92348833,  0.80169173, -0.19444396, -1.89594019, -0.19802996,\n",
       "         0.0068788 , -0.44916423],\n",
       "       [-1.06856201, -0.41170615,  1.68981046,  2.24598366, -0.10301873,\n",
       "         0.58449671, -0.1121843 , -0.88630497, -0.38218304, -1.0789193 ,\n",
       "         2.15981998, -0.25818017,  0.73603825, -0.29895923,  1.11368993,\n",
       "         1.53340733,  0.19189082, -0.69295353, -1.93708062, -0.26863426,\n",
       "        -0.86626926,  0.23133073, -0.14956416,  0.36915304, -1.14392585,\n",
       "        -0.2915883 ,  0.84441919,  2.19722264,  0.33048097,  0.73391114,\n",
       "        -1.23406829, -1.03673922,  0.07128292,  1.5124952 , -0.41280813,\n",
       "        -1.14322441, -0.38928823, -1.82771493, -1.46490451,  1.97840649,\n",
       "        -0.12860035, -1.16923506],\n",
       "       [ 0.40996679, -0.03043904,  0.68414508,  0.55802008,  0.98430598,\n",
       "        -0.14615926,  0.27483278, -0.11165572,  0.06797083, -0.04003235,\n",
       "        -1.49275583,  0.28093188, -0.26699465, -1.13989659,  1.07881717,\n",
       "         1.03371628,  0.34019426, -0.02478855, -1.13260354, -0.29271728,\n",
       "        -0.11315654, -0.17987136, -0.56344357,  1.86396182,  0.61770187,\n",
       "         0.8615985 , -1.3194477 ,  0.83908102,  0.34659097, -0.05789748,\n",
       "         0.47442031, -0.31309036, -1.91456682,  1.78084768,  0.02029227,\n",
       "        -0.1266481 , -2.41517893,  2.15136886,  0.23589594,  0.54864849,\n",
       "         1.09246542, -1.08407551],\n",
       "       [-1.72062669, -0.08144052,  0.77273059, -1.83800663, -0.13701983,\n",
       "         0.8869247 ,  0.57274064,  1.3151898 ,  0.5174204 ,  0.19596608,\n",
       "        -0.77962978, -1.41371274, -0.25982143,  0.14720238,  0.20227128,\n",
       "        -0.17854189,  0.90657778,  2.02651415, -0.23271445,  0.98302154,\n",
       "        -0.63041507, -1.66517779, -2.00487333, -2.90376198, -0.28517007,\n",
       "         1.14214527,  0.12503514,  1.17592583, -0.02434963,  0.08346147,\n",
       "        -0.56244352, -0.3256131 , -0.75104156,  0.20200232,  1.1641322 ,\n",
       "        -0.27745475,  0.75741196, -0.81019059,  1.662947  ,  0.12497335,\n",
       "        -0.40965435,  1.03702482],\n",
       "       [ 0.17572434, -0.01288635,  0.94579711,  0.00528207,  2.26622756,\n",
       "         0.36584422, -0.88643813, -1.87601953,  0.03669895, -1.31746984,\n",
       "        -0.67582695, -2.92475765, -0.26719227,  1.20955048, -0.90958486,\n",
       "        -0.01199156, -1.78974386,  1.26072479, -1.23205073,  1.88250215,\n",
       "        -0.64639932,  0.15493267,  1.74721728, -0.01833921,  0.68872304,\n",
       "         0.18826468, -1.52324358,  0.63324862,  1.5427913 ,  1.36300367,\n",
       "        -1.02671433,  0.85282376, -1.37502868,  1.35355068, -0.92193217,\n",
       "         0.89820672,  0.11548131, -1.44009483,  0.87845991,  1.03197011,\n",
       "         0.61265866, -0.43057755],\n",
       "       [-1.29105377, -0.9747069 , -1.08582646,  0.20637749, -0.06138311,\n",
       "        -0.12754258,  0.46862468,  0.32958004,  0.22827524,  1.0833588 ,\n",
       "        -1.43206375, -1.64710921,  1.0626508 ,  0.86634385,  0.62277256,\n",
       "         1.16344388, -2.59396168,  0.60524576,  0.21449059, -1.56344337,\n",
       "         1.03804695, -0.63379854,  2.72444502,  0.47391003, -0.64247782,\n",
       "        -1.98312604, -1.0833913 , -1.21980299, -0.13649646, -0.61569706,\n",
       "        -0.01139842,  0.41807732, -0.33321408,  0.9779565 , -0.42519049,\n",
       "         0.26239756,  0.35233853,  0.41748005,  0.18590335,  0.19961368,\n",
       "         0.60972124, -0.22071003]])"
      ]
     },
     "execution_count": 114,
     "metadata": {},
     "output_type": "execute_result"
    }
   ],
   "source": [
    "samples "
   ]
  },
  {
   "cell_type": "code",
   "execution_count": 116,
   "metadata": {},
   "outputs": [],
   "source": [
    "import random\n",
    "position = 0\n",
    "walk = [position]\n",
    "steps = 1000\n",
    "for i in range(steps):\n",
    "    step = 1 if random.randint(0, 1) else -1\n",
    "    position += step\n",
    "    walk.append(position)"
   ]
  },
  {
   "cell_type": "code",
   "execution_count": 117,
   "metadata": {},
   "outputs": [
    {
     "data": {
      "text/plain": [
       "[<matplotlib.lines.Line2D at 0xc596250>]"
      ]
     },
     "execution_count": 117,
     "metadata": {},
     "output_type": "execute_result"
    },
    {
     "data": {
      "image/png": "[encoded data removed]",
      "text/plain": [
       "<Figure size 432x288 with 1 Axes>"
      ]
     },
     "metadata": {
      "needs_background": "light"
     },
     "output_type": "display_data"
    }
   ],
   "source": [
    "plt.plot(walk[:80])"
   ]
  },
  {
   "cell_type": "code",
   "execution_count": null,
   "metadata": {},
   "outputs": [],
   "source": []
  }
 ],
 "metadata": {
  "kernelspec": {
   "display_name": "Python 3",
   "language": "python",
   "name": "python3"
  },
  "language_info": {
   "codemirror_mode": {
    "name": "ipython",
    "version": 3
   },
   "file_extension": ".py",
   "mimetype": "text/x-python",
   "name": "python",
   "nbconvert_exporter": "python",
   "pygments_lexer": "ipython3",
   "version": "3.6.0"
  }
 },
 "nbformat": 4,
 "nbformat_minor": 2
}
